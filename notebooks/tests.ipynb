{
 "cells": [
  {
   "cell_type": "code",
   "execution_count": null,
   "id": "38d60339-1ea7-4afb-8d00-a56ed457fc65",
   "metadata": {},
   "outputs": [],
   "source": [
    "# Import.\n",
    "import numpy as np\n",
    "import pandas as pd\n",
    "import matplotlib.pyplot as plt\n",
    "import seaborn as sns\n",
    "\n",
    "# Setup plotting params.\n",
    "plt.rcParams['figure.figsize'] = (14, 6)\n",
    "sns.set(style=\"whitegrid\")\n",
    "\n",
    "%matplotlib inline"
   ]
  },
  {
   "cell_type": "code",
   "execution_count": null,
   "id": "5a8865b0-1bb4-4eb5-8679-d69097a3c35a",
   "metadata": {},
   "outputs": [],
   "source": [
    "# Constants.\n",
    "DATA_PATH  = \"../data/\"\n",
    "ASTN_FILE = DATA_PATH + \"table1.csv\"\n",
    "SPECTRA_PATH = \"../data/spectra/\"\n",
    "COL_NAMES = [\"wavelength\", \"flux\", \"flux_err\"]\n",
    "\n",
    "# NOTE. We're arbitrarily defining a wing range. In the future we might want to estimate this\n",
    "#       in some ingenious way.\n",
    "W_LIMS = [[6555, 6561], [6567, 6573]]\n",
    "\n",
    "# File list.\n",
    "data_astn = pd.read_csv(ASTN_FILE, sep=',')"
   ]
  },
  {
   "cell_type": "code",
   "execution_count": null,
   "id": "c56d9565-a7c8-4c6e-bebd-29e1b65a1b65",
   "metadata": {},
   "outputs": [],
   "source": [
    "# Get two polynomial fits from the data in a pandas dataframe, one for each wing.\n",
    "#   df: Pandas dataframe with three columns: wavelength, flux, and flux_err.\n",
    "# NOTE. Currently does not return anything about the fit quality.\n",
    "def get_fits(df):\n",
    "    # Array to contain the results of the polynomial fits.\n",
    "    fits  = []\n",
    "\n",
    "    for wi in range(2):\n",
    "        # Dictionary to contain the wavelength, flux, and flux error.\n",
    "        wings = {}\n",
    "        # Extract values\n",
    "        for col in COL_NAMES:\n",
    "            wings[col] = \\\n",
    "                df[col][(df[\"wavelength\"] >= W_LIMS[wi][0]) & (df[\"wavelength\"] <= W_LIMS[wi][1])].values\n",
    "\n",
    "        # The errors are stddev and numpy takes in variance, so we square the values in that array.\n",
    "        wings[\"flux_err\"] = np.square(wings[\"flux_err\"])\n",
    "\n",
    "        # Fit the arrays.\n",
    "        fits.append(np.poly1d(np.polynomial.polynomial.polyfit(\n",
    "            wings[\"wavelength\"],   # x.\n",
    "            wings[\"flux\"],         # y.\n",
    "            2,                     # degree.\n",
    "            w = wings[\"flux_err\"], # y_err.\n",
    "            rcond=None, full=False\n",
    "        )[::-1]))\n",
    "\n",
    "    return fits"
   ]
  },
  {
   "cell_type": "code",
   "execution_count": null,
   "id": "d5a74bb9-4b64-499b-b8df-cc353b406556",
   "metadata": {},
   "outputs": [],
   "source": [
    "# --+ Fit one random file and plot.\n",
    "# Extract a random filename from the csv.\n",
    "TESTFILE = SPECTRA_PATH + data_astn[\"filename\"].sample(n=1).values[0]\n",
    "\n",
    "# Create a dataframe with the txt file.\n",
    "df = pd.read_csv(TESTFILE, sep=\"\\s+\", header=None, names=COL_NAMES)\n",
    "\n",
    "# Perform fits.\n",
    "fits = get_fits(df)\n",
    "\n",
    "# Remove all data from df outside of the relevant region.\n",
    "df.drop(df[(\n",
    "    ((W_LIMS[0][0] > df[\"wavelength\"]) | (df[\"wavelength\"] > W_LIMS[0][1])) &\n",
    "    ((W_LIMS[1][0] > df[\"wavelength\"]) | (df[\"wavelength\"] > W_LIMS[1][1]))\n",
    ")].index, inplace=True)\n",
    "\n",
    "# Plot df.\n",
    "plt.errorbar(\n",
    "    df[\"wavelength\"], df[\"flux\"], yerr=df[\"flux_err\"],\n",
    "    fmt = 'o', markersize=0.4, capsize=0.2, color=\"black\"\n",
    ")\n",
    "\n",
    "# Get two linspaces to plot the fit.\n",
    "for wi in range(2):\n",
    "    x_vals = np.linspace(W_LIMS[wi][0], W_LIMS[wi][1], 100)\n",
    "    y_vals = fits[wi](x_vals)\n",
    "    plt.plot(x_vals, y_vals)\n",
    "\n",
    "plt.show()"
   ]
  },
  {
   "cell_type": "code",
   "execution_count": null,
   "id": "c9ad492d-6ebb-4987-9a08-2bd8d1d05f9f",
   "metadata": {},
   "outputs": [],
   "source": []
  }
 ],
 "metadata": {
  "kernelspec": {
   "display_name": "Python 3 (ipykernel)",
   "language": "python",
   "name": "python3"
  },
  "language_info": {
   "codemirror_mode": {
    "name": "ipython",
    "version": 3
   },
   "file_extension": ".py",
   "mimetype": "text/x-python",
   "name": "python",
   "nbconvert_exporter": "python",
   "pygments_lexer": "ipython3",
   "version": "3.10.12"
  }
 },
 "nbformat": 4,
 "nbformat_minor": 5
}
